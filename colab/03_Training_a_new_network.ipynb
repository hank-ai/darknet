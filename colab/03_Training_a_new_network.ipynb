{
  "nbformat": 4,
  "nbformat_minor": 0,
  "metadata": {
    "colab": {
      "provenance": [],
      "toc_visible": true,
      "gpuType": "T4",
      "private_outputs": true,
      "collapsed_sections": [
        "Ur6K44jqW4QF",
        "LWTtdHqAaGlI",
        "gbt_BQU_npBB"
      ]
    },
    "kernelspec": {
      "name": "python3",
      "display_name": "Python 3"
    },
    "language_info": {
      "name": "python"
    },
    "accelerator": "GPU"
  },
  "cells": [
    {
      "cell_type": "code",
      "execution_count": null,
      "metadata": {
        "id": "H4jlg5E2WHdQ"
      },
      "outputs": [],
      "source": []
    },
    {
      "cell_type": "markdown",
      "source": [
        "# Training a network using the Hank.ai Darknet/YOLO framework\n",
        "- Using the [C Code Run Darknet/YOLO repo](https://codeberg.org/CCodeRun/darknet#table-of-contents)\n",
        "- Based on https://codeberg.org/CCodeRun/darknet#linux-cmake-method\n",
        "- Uses the [LegoGears V2 dataset](https://www.ccoderun.ca/programming/2024-05-01_LegoGears/)\n",
        "- See the [Darknet/YOLO FAQ](https://www.ccoderun.ca/programming/yolo_faq/)\n",
        "- Last updated by Stéphane Charette on 2025-08-15 for Darknet v4.0-52\n",
        "- Remember to select:  Edit -> Notebook settings -> T4 GPU"
      ],
      "metadata": {
        "id": "ooUJBtxFJ3Ff"
      }
    },
    {
      "cell_type": "markdown",
      "source": [
        "# Building Darknet/YOLO"
      ],
      "metadata": {
        "id": "Ur6K44jqW4QF"
      }
    },
    {
      "cell_type": "code",
      "source": [
		"# Check that the google colab instance provides a GPU before starting",
		"import os\n",
		"assert os.environ.get(\"COLAB_GPU\"), \"GPU required. Change runtime type to GPU in Edit > Notebook settings > T4 GPU\"\n",
		"\n",
        "!sudo apt-get install build-essential git libopencv-dev cmake\n",
        "\n",
        "# Make sure we have access to CUDA\n",
        "!nvidia-smi\n",
        "!nvcc --version\n",
        "\n",
        "# Get the Darknet/YOLO source code\n",
        "%mkdir -p ~/src\n",
        "%cd ~/src\n",
        "%rm -rf ~/src/darknet\n",
        "!git clone https://codeberg.org/CCodeRun/darknet\n",
        "\n",
        "# Build Darknet/YOLO\n",
        "%mkdir -p ~/src/darknet/build\n",
        "%cd ~/src/darknet/build\n",
        "!cmake -DCMAKE_BUILD_TYPE=Release ..\n",
        "%cd ~/src/darknet/build\n",
        "!make -j $(nproc) package\n",
        "\n",
        "# Install the .deb package\n",
        "!sudo dpkg -i darknet*.deb\n",
        "\n",
        "# Check to see that we can run Darknet/YOLO\n",
        "!darknet --version"
      ],
      "metadata": {
        "collapsed": true,
        "id": "iDqbN8u-XsWr"
      },
      "execution_count": null,
      "outputs": []
    },
    {
      "cell_type": "markdown",
      "source": [
        "# Setup the LegoGears-V2 dataset and train the neural network\n",
        "\n"
      ],
      "metadata": {
        "id": "LWTtdHqAaGlI"
      }
    },
    {
      "cell_type": "code",
      "source": [
        "# Make sure we can run the darknet executable\n",
        "!darknet --version\n",
        "\n",
        "# Get our dataset onto the colab instance\n",
        "%mkdir -p ~/nn\n",
        "%cd ~/nn\n",
        "!wget --no-clobber https://www.ccoderun.ca/programming/2024-05-01_LegoGears/legogears_2_dataset.zip\n",
        "%rm -rf LegoGears_v2\n",
        "%rm -rf LegoGears\n",
        "!unzip legogears_2_dataset.zip\n",
        "%mv LegoGears_v2 LegoGears\n",
        "%cd LegoGears\n",
        "\n",
        "# Had we used DarkMark, things would be very simple and we could train at this\n",
        "# point.  But since we didn't we'll use image magick to modify our images to\n",
        "# match the network dimensions.  This will make sure training takes much less\n",
        "# time.  See the FAQ for details:\n",
        "# https://www.ccoderun.ca/programming/yolo_faq/#time_to_train\n",
        "#\n",
        "# WARNING:  Make sure you understand what this is doing before blindly copying\n",
        "# this code.  You cannot re-use this \"as-is\" with any dataset, the numbers used\n",
        "# must match the .cfg file and is specific to each dataset.  See this question\n",
        "# in the FAQ which explains the math that was used:\n",
        "# https://www.ccoderun.ca/programming/yolo_faq/#optimal_network_size\n",
        "!sudo apt-get install imagemagick\n",
        "%mkdir training_images\n",
        "%cp set_0*/*.jpg training_images/\n",
        "%cp set_0*/*.txt training_images/\n",
        "!mogrify -verbose -strip -resize 224x160! -quality 75 training_images/*.jpg\n",
        "\n",
        "# this dataset doesn't have a train.txt nor valid.txt file,\n",
        "# so we must manually create them\n",
        "!find $(pwd)/training_images -name \\*.jpg > LegoGears_train.txt\n",
        "%cp LegoGears_train.txt LegoGears_valid.txt\n",
        "\n",
        "# the paths in the .data file must be fixed up to point to this colab instance\n",
        "!sed -i \"s+/home/stephane+${HOME}+g\" LegoGears.data\n",
        "\n",
        "# the batch size in the .cfg file should be set to 64 while training\n",
        "!sed -i \"s+batch=1+batch=64+g\" LegoGears.cfg\n",
        "\n",
        "# start training!\n",
        "!darknet detector -map -dont_show train LegoGears.data LegoGears.cfg | tee output.log\n",
        "\n",
        "# display the chart.png file\n",
        "import cv2 as cv2\n",
        "from matplotlib import pyplot as plt\n",
        "img = cv2.imread('chart.png')\n",
        "plt.imshow(cv2.cvtColor(img, cv2.COLOR_BGR2RGB))"
      ],
      "metadata": {
        "id": "1rOmelVQaSGd"
      },
      "execution_count": null,
      "outputs": []
    },
    {
      "cell_type": "markdown",
      "source": [
        "# Check the results"
      ],
      "metadata": {
        "id": "gbt_BQU_npBB"
      }
    },
    {
      "cell_type": "code",
      "source": [
        "import cv2 as cv2\n",
        "from matplotlib import pyplot as plt\n",
        "\n",
        "%cd ~/nn/LegoGears/\n",
        "\n",
        "!darknet detector test -dont_show LegoGears.data LegoGears.cfg LegoGears_best.weights set_01/DSCN1583_frame_000197.jpg\n",
        "img = cv2.imread('predictions.jpg')\n",
        "plt.imshow(cv2.cvtColor(img, cv2.COLOR_BGR2RGB))"
      ],
      "metadata": {
        "id": "5CsDAHBwnuEi"
      },
      "execution_count": null,
      "outputs": []
    }
  ]
}
