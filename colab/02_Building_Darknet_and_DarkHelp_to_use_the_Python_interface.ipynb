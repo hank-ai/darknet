{
  "nbformat": 4,
  "nbformat_minor": 0,
  "metadata": {
    "colab": {
      "provenance": [],
      "collapsed_sections": [
        "gUMZYLdp222_",
        "HeAGWqnO3EYh",
        "RFTsLtbV5Q-O"
      ],
      "toc_visible": true,
      "gpuType": "T4",
      "private_outputs": true
    },
    "kernelspec": {
      "name": "python3",
      "display_name": "Python 3"
    },
    "language_info": {
      "name": "python"
    },
    "accelerator": "GPU"
  },
  "cells": [
    {
      "cell_type": "markdown",
      "source": [
        "# build Darknet"
      ],
      "metadata": {
        "id": "gUMZYLdp222_"
      }
    },
    {
      "cell_type": "code",
      "execution_count": null,
      "metadata": {
        "id": "M4HBBzpMy0W8"
      },
      "outputs": [],
      "source": [
		"# Check that the google colab instance provides a GPU before starting",
		"import os\n",
		"assert os.environ.get("COLAB_GPU"), 'GPU required. Change runtime type to GPU in Edit > Notebook settings > T4 GPU'\n",
		"\n",
		"!sudo apt-get install build-essential git libopencv-dev cmake\n",
        "\n",
        "%mkdir -p ~/src\n",
        "%cd ~/src\n",
        "%rm -rf ~/src/darknet\n",
        "!git clone https://codeberg.org/CCodeRun/darknet\n",
        "%mkdir ~/src/darknet/build\n",
        "%cd ~/src/darknet/build\n",
        "!cmake -DCMAKE_BUILD_TYPE=Release ..\n",
        "!make -j $(nproc) package\n",
        "!sudo dpkg -i darknet*.deb\n",
        "%cd ~\n",
        "!darknet version"
      ]
    },
    {
      "cell_type": "markdown",
      "source": [
        "# build DarkHelp"
      ],
      "metadata": {
        "id": "HeAGWqnO3EYh"
      }
    },
    {
      "cell_type": "code",
      "source": [
        "# Build and install the DarkHelp CLI\n",
        "\n",
        "!sudo apt-get install build-essential libtclap-dev libmagic-dev libopencv-dev\n",
        "%cd ~/src\n",
        "%rm -rf ~/src/DarkHelp\n",
        "!git clone https://codeberg.org/CCodeRun/DarkHelp\n",
        "%cd ~/src/DarkHelp\n",
        "%mkdir build\n",
        "%cd build\n",
        "!cmake -DCMAKE_BUILD_TYPE=Release ..\n",
        "!make -j $(nproc) package\n",
        "!sudo dpkg -i darkhelp*.deb\n",
        "%cd ~\n",
        "!DarkHelp --version"
      ],
      "metadata": {
        "id": "Rkve8tJymxLe"
      },
      "execution_count": null,
      "outputs": []
    },
    {
      "cell_type": "markdown",
      "source": [
        "# using the DarkHelp Python API"
      ],
      "metadata": {
        "id": "RFTsLtbV5Q-O"
      }
    },
    {
      "cell_type": "code",
      "source": [
        "%mkdir -p ~/testing\n",
        "%cd ~/testing\n",
        "\n",
        "# Download the MSCOCO pre-trained weights (https://github.com/hank-ai/darknet#mscoco-pre-trained-weights).\n",
        "!wget --no-clobber https://github.com/hank-ai/darknet/releases/download/v2.0/yolov4-tiny.weights\n",
        "\n",
        "# Copy the files we're going to use.\n",
        "!cp /opt/darknet/cfg/yolov4-tiny.cfg .\n",
        "!cp /opt/darknet/cfg/coco.names .\n",
        "!cp ~/src/DarkHelp/src-python/DarkHelp.py .\n",
        "!cp ~/src/darknet/artwork/dog.jpg .\n",
        "\n",
        "import DarkHelp\n",
        "import json\n",
        "from matplotlib import pyplot as plt\n",
        "\n",
        "print(\"DarkHelp v\" + DarkHelp.DarkHelpVersion().decode())\n",
        "print(\"Darknet v\" + DarkHelp.DarknetVersion().decode())\n",
        "\n",
        "# Note the order in which the filenames are specified when constructing a\n",
        "# DarkHelp object does not matter.  It will figure out which file is which.\n",
        "dh = DarkHelp.CreateDarkHelpNN(\n",
        "    \"yolov4-tiny.cfg\".encode(),\n",
        "    \"yolov4-tiny.weights\".encode(),\n",
        "    \"coco.names\".encode())\n",
        "DarkHelp.EnableAnnotationAutoHideLabels(dh, False)\n",
        "DarkHelp.EnableNamesIncludePercentage(dh, False)\n",
        "DarkHelp.EnableSnapping(dh, False)\n",
        "DarkHelp.EnableTiles(dh, False)\n",
        "DarkHelp.SetThreshold(dh, 0.45)\n",
        "DarkHelp.SetAnnotationLineThickness(dh, 1)\n",
        "\n",
        "DarkHelp.PredictFN(dh, \"dog.jpg\".encode())\n",
        "\n",
        "# Note that cv2.imread() uses BGR, while matplotlib uses RGB, so we'll skip\n",
        "# the call to cv2.cvtColor() and use matplotlib to read the image.  If we\n",
        "# need to manipulate the image in OpenCV, we'd probably be better off using\n",
        "# cv2.imread() instead.\n",
        "DarkHelp.Annotate(dh, \"output.jpg\".encode())\n",
        "img = plt.imread(\"output.jpg\")\n",
        "plt.imshow(img)\n",
        "\n",
        "# Iterate over all predictions made and display some information on each one.\n",
        "j = json.loads(DarkHelp.GetPredictionResults(dh))\n",
        "for prediction in j['file'][0]['prediction']:\n",
        "    if False:\n",
        "        # the next line displays a lot of information so turn it off by default\n",
        "        print(prediction)\n",
        "    idx = prediction['best_class']\n",
        "    name = prediction['name']\n",
        "    prob = prediction['best_probability'] * 100.0\n",
        "    x = prediction['rect']['x']\n",
        "    y = prediction['rect']['y']\n",
        "    w = prediction['rect']['width']\n",
        "    h = prediction['rect']['height']\n",
        "    print(f\"class #{idx}: {prob:.1f}% \\\"{name}\\\" at {prediction['rect']}\")\n",
        "\n",
        "    # If you want, the RoI can be extracted and you could then do whatever you\n",
        "    # want with it, such as saving it to a file or passing it to a function.\n",
        "    if False:\n",
        "        roi = img[y:y+h, x:x+w]\n",
        "        plt.imshow(roi)\n",
        "\n",
        "DarkHelp.DestroyDarkHelpNN(dh)"
      ],
      "metadata": {
        "id": "X0jhrVK75cWB"
      },
      "execution_count": null,
      "outputs": []
    }
  ]
}
