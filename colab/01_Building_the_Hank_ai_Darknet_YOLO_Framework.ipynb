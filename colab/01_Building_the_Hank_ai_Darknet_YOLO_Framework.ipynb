{
  "nbformat": 4,
  "nbformat_minor": 0,
  "metadata": {
    "colab": {
      "provenance": [],
      "toc_visible": true,
      "gpuType": "T4",
      "private_outputs": true,
      "collapsed_sections": [
        "px_QergOYmvc",
        "NhS_LMhhZ0h5",
        "afhxH-K1atAQ"
      ]
    },
    "kernelspec": {
      "name": "python3",
      "display_name": "Python 3"
    },
    "language_info": {
      "name": "python"
    },
    "accelerator": "GPU"
  },
  "cells": [
    {
      "cell_type": "markdown",
      "source": [
        "# Building the Darknet/YOLO Framework\n",
        "- Using the [C Code Run Darknet/YOLO repo](https://codeberg.org/CCodeRun/darknet#table-of-contents)\n",
        "- Based on https://codeberg.org/CCodeRun/darknet#linux-cmake-method\n",
        "- See the [Darknet/YOLO FAQ](https://www.ccoderun.ca/programming/yolo_faq/)\n",
        "- Last updated by Stéphane Charette on 2025-08-15 for Darknet v4.0-52\n",
        "- Remember to select:  Edit -> Notebook settings -> T4 GPU"
      ],
      "metadata": {
        "id": "ooUJBtxFJ3Ff"
      }
    },
    {
      "cell_type": "markdown",
      "source": [
        "# Install the dependencies"
      ],
      "metadata": {
        "id": "DZKBrI8nYav_"
      }
    },
    {
      "cell_type": "code",
      "execution_count": null,
      "metadata": {
        "id": "lzCaepsPJkzZ"
      },
      "outputs": [],
      "source": [
		"# Check that the google colab instance provides a GPU before starting",
		"import os\n",
		"assert os.environ.get(\"COLAB_GPU\"), \"GPU required. Change runtime type to GPU in Edit > Notebook settings > T4 GPU\"\n",
		"\n",
        "# First part will install the tools we'll use to build.\n",
        "!sudo apt-get install build-essential git libopencv-dev cmake\n",
        "\n",
        "# Which NVIDIA libraries are currently installed?\n",
        "!dpkg -l | egrep \"libcuda|libcudnn\"\n",
        "\n",
        "# Last updated on 2025-08-15; you may need to update the library version numbers\n",
        "# You should have libcudnn and libcuda installed.  If not, then you'll need to\n",
        "# check what is available, and install it with the following lines.\n",
        "\n",
        "#!apt-cache search libcudnn\n",
        "#!apt-cache search cuda-libraries\n",
        "#!sudo apt-get install libcudnn9-dev-XYZ cuda-libraries-dev-XYZ"
      ]
    },
    {
      "cell_type": "markdown",
      "source": [
        "# Verifying NVIDIA"
      ],
      "metadata": {
        "id": "px_QergOYmvc"
      }
    },
    {
      "cell_type": "code",
      "source": [
        "# There are 2 specific tools from NVIDIA we're going to use to verify that everything is installed.\n",
        "\n",
        "# The first is nvidia-smi which gives real-time information in the GPU.\n",
        "!nvidia-smi\n",
        "\n",
        "# Next is the nvidia compiler.  If you get a \"command not found\" error then things will not work!\n",
        "!nvcc --version"
      ],
      "metadata": {
        "id": "ZZoCBDiOOMgd"
      },
      "execution_count": null,
      "outputs": []
    },
    {
      "cell_type": "markdown",
      "source": [
        "# Cloning the Darknet/YOLO repo"
      ],
      "metadata": {
        "id": "NhS_LMhhZ0h5"
      }
    },
    {
      "cell_type": "code",
      "source": [
        "# Remove any pre-existing repo files, and clone the Darknet/YOLO repo.\n",
        "%mkdir -p ~/src\n",
        "%cd ~/src\n",
        "%rm -rf ~/src/darknet\n",
        "!git clone https://codeberg.org/CCodeRun/darknet.git"
      ],
      "metadata": {
        "id": "U8ErqAEUJrz7"
      },
      "execution_count": null,
      "outputs": []
    },
    {
      "cell_type": "markdown",
      "source": [
        "# Preparing to build the Darknet/YOLO repo"
      ],
      "metadata": {
        "id": "38Of4wfKaSl5"
      }
    },
    {
      "cell_type": "code",
      "source": [
        "# Prepare the Darknet/YOLO build directory\n",
        "%cd ~/src/darknet\n",
        "%rm -rf ~/src/darknet/build\n",
        "%mkdir ~/src/darknet/build\n",
        "%cd ~/src/darknet/build\n",
        "!cmake -DCMAKE_BUILD_TYPE=Release ..\n",
        "\n",
        "# Once cmake has finished, make sure that CUDA and cuDNN are working.  The output should contain lines such as:\n",
        "#     \"CUDA detected. Darknet will use the GPU.\"\n",
        "# and\n",
        "#     \"Found cuDNN\""
      ],
      "metadata": {
        "id": "LlVwsQdrM6GI"
      },
      "execution_count": null,
      "outputs": []
    },
    {
      "cell_type": "markdown",
      "source": [
        "# Building and installing Darknet/YOLO files"
      ],
      "metadata": {
        "id": "afhxH-K1atAQ"
      }
    },
    {
      "cell_type": "code",
      "source": [
        "# Build Darknet/YOLO\n",
        "%cd ~/src/darknet/build\n",
        "!make -j $(nproc)"
      ],
      "metadata": {
        "id": "-PB5r5gHVOu9"
      },
      "execution_count": null,
      "outputs": []
    },
    {
      "cell_type": "code",
      "source": [
        "# Confirm that the Darknet CLI was built correctly\n",
        "%cd ~/src/darknet/build\n",
        "!src-cli/darknet version"
      ],
      "metadata": {
        "id": "uHJ9ez99W2jY"
      },
      "execution_count": null,
      "outputs": []
    },
    {
      "cell_type": "code",
      "source": [
        "# Create and install the .deb installation package\n",
        "%cd ~/src/darknet/build\n",
        "!make package\n",
        "!sudo dpkg -i darknet*.deb"
      ],
      "metadata": {
        "id": "fYlPy81cXDfx"
      },
      "execution_count": null,
      "outputs": []
    },
    {
      "cell_type": "code",
      "source": [
        "# Confirm that we can run \"darknet\" from anywhere since it has now been installed\n",
        "%cd ~\n",
        "!darknet version\n",
        "# Show some of the /opt/ files we've installed.  This should show ~40 .cfg files.\n",
        "!ls -lh /opt/darknet/cfg/yolov*"
      ],
      "metadata": {
        "id": "hCOHoUFHXct7"
      },
      "execution_count": null,
      "outputs": []
    },
    {
      "cell_type": "markdown",
      "source": [
        "# Building and installing DarkHelp"
      ],
      "metadata": {
        "id": "7PfeMe9emfQc"
      }
    },
    {
      "cell_type": "code",
      "source": [
        "# Build and install the DarkHelp CLI\n",
        "\n",
        "!sudo apt-get install build-essential libtclap-dev libmagic-dev libopencv-dev\n",
        "%cd ~/src\n",
        "%rm -rf ~/src/DarkHelp\n",
        "!git clone https://codeberg.org/CCodeRun/DarkHelp.git\n",
        "%cd ~/src/DarkHelp\n",
        "%mkdir build\n",
        "%cd build\n",
        "!cmake -DCMAKE_BUILD_TYPE=Release ..\n",
        "!make -j $(nproc)\n",
        "!make package\n",
        "!sudo dpkg -i darkhelp*.deb"
      ],
      "metadata": {
        "id": "Rkve8tJymxLe"
      },
      "execution_count": null,
      "outputs": []
    },
    {
      "cell_type": "markdown",
      "source": [
        "# Test the MSCOCO Weights"
      ],
      "metadata": {
        "id": "zo2LSLpUivXb"
      }
    },
    {
      "cell_type": "code",
      "source": [
        "# Download the MSCOCO pre-trained weights (https://codeberg.org/CCodeRun/darknet#mscoco-pre-trained-weights)\n",
        "%cd ~/src/darknet\n",
        "!wget --no-clobber https://github.com/hank-ai/darknet/releases/download/v2.0/yolov4-tiny.weights\n",
        "\n",
        "# This is what the command looks like when using Darknet to predict.  Because we're using --dont-show, the results will be saved as an image to \"predictions.jpg\"\n",
        "#!darknet detector test --dont-show cfg/coco.data cfg/yolov4-tiny.cfg yolov4-tiny.weights artwork/dog.jpg\n",
        "\n",
        "# And this how we do the equivalent but with DarkHelp instead.  See the DarkHelp documentation to see all the options which alter the look of the output image.\n",
        "# https://www.ccoderun.ca/darkhelp/api/Parameters.html\n",
        "!DarkHelp --json --autohide off --keep --duration off --fontscale 0.7 --line 5 --shade 0.25 --threshold 0.5 --outdir . cfg/yolov4-tiny.cfg cfg/coco.names yolov4-tiny.weights artwork/dog.jpg\n",
        "\n",
        "# Display the results\n",
        "import cv2 as cv2\n",
        "from matplotlib import pyplot as plt\n",
        "\n",
        "img = cv2.imread('dog.png')\n",
        "plt.imshow(cv2.cvtColor(img, cv2.COLOR_BGR2RGB))\n"
      ],
      "metadata": {
        "id": "fmMQ8S_XjEzX"
      },
      "execution_count": null,
      "outputs": []
    },
    {
      "cell_type": "markdown",
      "source": [
        "# All done!\n",
        "\n",
        "At this point, you'd need to upload your dataset, and then call `darknet detector train ...` to begin training your neural network.\n",
        "\n",
        "Also see:\n",
        "- https://www.ccoderun.ca/programming/yolo_faq/#training_command\n",
        "- https://codeberg.org/CCodeRun/darknet#training\n"
      ],
      "metadata": {
        "id": "_pTAcXQce8kY"
      }
    }
  ]
}
